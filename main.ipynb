{
 "cells": [
  {
   "cell_type": "code",
   "execution_count": 5,
   "metadata": {},
   "outputs": [
    {
     "name": "stdout",
     "output_type": "stream",
     "text": [
      "fatal: destination path 'tower-1-mc' already exists and is not an empty directory.\n"
     ]
    }
   ],
   "source": [
    "!git clone https://github.com/namdeptraivcd/tower-1-mc"
   ]
  },
  {
   "cell_type": "code",
   "execution_count": 6,
   "metadata": {},
   "outputs": [
    {
     "name": "stdout",
     "output_type": "stream",
     "text": [
      "/kaggle/working/tower-1-mc\n",
      "remote: Enumerating objects: 7, done.\u001b[K\n",
      "remote: Counting objects: 100% (7/7), done.\u001b[K\n",
      "remote: Compressing objects: 100% (3/3), done.\u001b[K\n",
      "remote: Total 4 (delta 2), reused 3 (delta 1), pack-reused 0 (from 0)\u001b[K\n",
      "Unpacking objects: 100% (4/4), 1.01 KiB | 1.01 MiB/s, done.\n",
      "From https://github.com/namdeptraivcd/tower-1-mc\n",
      "   750963d..2a77d21  main       -> origin/main\n",
      "Updating 750963d..2a77d21\n",
      "Fast-forward\n",
      " kmeans_display.png | Bin \u001b[31m2398\u001b[m -> \u001b[32m0\u001b[m bytes\n",
      " main.ipynb         |  57 \u001b[32m+++++++++++++++++++++++++\u001b[m\u001b[31m----------------------------\u001b[m\n",
      " main.py            |   1 \u001b[31m-\u001b[m\n",
      " 3 files changed, 27 insertions(+), 31 deletions(-)\n",
      " delete mode 100644 kmeans_display.png\n",
      "/kaggle/working\n"
     ]
    }
   ],
   "source": [
    "'''\n",
    "git config user.name \n",
    "git config user.email\n",
    "git remote -v \n",
    "git branch \n",
    "\n",
    "git status\n",
    "\n",
    "git add . \n",
    "git commit -m “Update”\n",
    "git push -u origin main \n",
    "'''\n",
    "%cd tower-1-mc\n",
    "!git pull\n",
    "%cd .."
   ]
  },
  {
   "cell_type": "code",
   "execution_count": 7,
   "metadata": {},
   "outputs": [
    {
     "name": "stdout",
     "output_type": "stream",
     "text": [
      "Figure(640x480)\n",
      "/usr/local/lib/python3.11/dist-packages/sklearn/cluster/_kmeans.py:870: FutureWarning: The default value of `n_init` will change from 10 to 'auto' in 1.4. Set the value of `n_init` explicitly to suppress the warning\n",
      "  warnings.warn(\n",
      "Centers found by scikit-learn:\n",
      "[[8.0410628  3.02094748]\n",
      " [2.99357611 6.03605255]\n",
      " [1.97634981 2.01123694]]\n",
      "Figure(640x480)\n"
     ]
    }
   ],
   "source": [
    "%matplotlib inline\n",
    "\n",
    "!python tower-1-mc/main.py"
   ]
  }
 ],
 "metadata": {
  "kernelspec": {
   "display_name": "Python 3 (ipykernel)",
   "language": "python",
   "name": "python3"
  }
 },
 "nbformat": 4,
 "nbformat_minor": 2
}
