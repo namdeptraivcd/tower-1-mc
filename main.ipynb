{
 "cells": [
  {
   "cell_type": "code",
   "execution_count": 1,
   "metadata": {},
   "outputs": [
    {
     "name": "stdout",
     "output_type": "stream",
     "text": [
      "lỗi nghiêm trọng: đường dẫn đích 'tower-1-mc' đã có từ trước và không phải là một thư mục rỗng.\n"
     ]
    }
   ],
   "source": [
    "!git clone https://github.com/namdeptraivcd/tower-1-mc"
   ]
  },
  {
   "cell_type": "code",
   "execution_count": 4,
   "metadata": {},
   "outputs": [
    {
     "name": "stdout",
     "output_type": "stream",
     "text": [
      "/Users/apple/tower-challenge/tower-1-mc\n",
      "\u001b[33mgợi ý: Bạn có các nhánh phân kỳ và cần chỉ định cách hợp nhất chúng.\u001b[m\n",
      "\u001b[33mgợi ý: Bạn có thể làm vậy bằng cách chạy một trong những lệnh sau đây\u001b[m\n",
      "\u001b[33mgợi ý: trước khi thực hiện lệnh pull tiếp theo của bạn:\u001b[m\n",
      "\u001b[33mgợi ý:\u001b[m\n",
      "\u001b[33mgợi ý:   git config pull.rebase false  # hợp nhất\u001b[m\n",
      "\u001b[33mgợi ý:   git config pull.rebase true   # cải tổ\u001b[m\n",
      "\u001b[33mgợi ý:   git config pull.ff only       # chỉ chuyển tiếp nhanh\u001b[m\n",
      "\u001b[33mgợi ý:\u001b[m\n",
      "\u001b[33mgợi ý: Bạn có thể thay thế \"git config\" với \"git config --global\" để thiết lập mặc định\u001b[m\n",
      "\u001b[33mgợi ý: ưu tiên cho tất cả các kho. Bạn cũng có thể chỉ định --rebase, --no-rebase,\u001b[m\n",
      "\u001b[33mgợi ý: hoặc --ff-only trên dòng lệnh để ghi đè cấu hình mặc định cho từng\u001b[m\n",
      "\u001b[33mgợi ý: lần gọi.\u001b[m\n",
      "lỗi nghiêm trọng: Cần chỉ định làm thế nào để giải quyết các nhánh phân kỳ.\n",
      "/Users/apple/tower-challenge\n"
     ]
    }
   ],
   "source": [
    "'''\n",
    "git config user.name \n",
    "git config user.email\n",
    "git remote -v \n",
    "git branch \n",
    "\n",
    "git status\n",
    "\n",
    "git add . \n",
    "git commit -m “Update”\n",
    "git push -u origin main \n",
    "'''\n",
    "%cd tower-1-mc\n",
    "!git pull\n",
    "%cd .."
   ]
  },
  {
   "cell_type": "code",
   "execution_count": 7,
   "metadata": {},
   "outputs": [
    {
     "name": "stdout",
     "output_type": "stream",
     "text": [
      "Figure(640x480)\n",
      "/usr/local/lib/python3.11/dist-packages/sklearn/cluster/_kmeans.py:870: FutureWarning: The default value of `n_init` will change from 10 to 'auto' in 1.4. Set the value of `n_init` explicitly to suppress the warning\n",
      "  warnings.warn(\n",
      "Centers found by scikit-learn:\n",
      "[[8.0410628  3.02094748]\n",
      " [2.99357611 6.03605255]\n",
      " [1.97634981 2.01123694]]\n",
      "Figure(640x480)\n"
     ]
    }
   ],
   "source": [
    "%matplotlib inline\n",
    "\n",
    "!python tower-1-mc/main.py"
   ]
  }
 ],
 "metadata": {
  "kernelspec": {
   "display_name": "Python 3 (ipykernel)",
   "language": "python",
   "name": "python3"
  },
  "language_info": {
   "codemirror_mode": {
    "name": "ipython",
    "version": 3
   },
   "file_extension": ".py",
   "mimetype": "text/x-python",
   "name": "python",
   "nbconvert_exporter": "python",
   "pygments_lexer": "ipython3",
   "version": "3.10.18"
  }
 },
 "nbformat": 4,
 "nbformat_minor": 2
}
